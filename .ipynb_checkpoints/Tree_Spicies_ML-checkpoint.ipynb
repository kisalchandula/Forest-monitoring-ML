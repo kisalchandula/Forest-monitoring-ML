{
 "cells": [
  {
   "cell_type": "code",
   "execution_count": 2,
   "id": "041eff1f-e500-4541-8ac9-ff15ea9ba999",
   "metadata": {},
   "outputs": [
    {
     "name": "stdout",
     "output_type": "stream",
     "text": [
      "Requirement already satisfied: sentinelhub in c:\\users\\user\\anaconda3\\envs\\remote-sensing\\lib\\site-packages (3.11.1)\n",
      "Requirement already satisfied: aenum>=2.1.4 in c:\\users\\user\\anaconda3\\envs\\remote-sensing\\lib\\site-packages (from sentinelhub) (3.1.15)\n",
      "Requirement already satisfied: click in c:\\users\\user\\anaconda3\\envs\\remote-sensing\\lib\\site-packages (from sentinelhub) (8.1.8)\n",
      "Requirement already satisfied: dataclasses-json in c:\\users\\user\\anaconda3\\envs\\remote-sensing\\lib\\site-packages (from sentinelhub) (0.6.7)\n",
      "Requirement already satisfied: numpy in c:\\users\\user\\anaconda3\\envs\\remote-sensing\\lib\\site-packages (from sentinelhub) (2.2.4)\n",
      "Requirement already satisfied: oauthlib in c:\\users\\user\\anaconda3\\envs\\remote-sensing\\lib\\site-packages (from sentinelhub) (3.2.2)\n",
      "Requirement already satisfied: pillow>=9.2.0 in c:\\users\\user\\anaconda3\\envs\\remote-sensing\\lib\\site-packages (from sentinelhub) (11.1.0)\n",
      "Requirement already satisfied: pyproj>=2.2.0 in c:\\users\\user\\anaconda3\\envs\\remote-sensing\\lib\\site-packages (from sentinelhub) (3.7.1)\n",
      "Requirement already satisfied: python-dateutil in c:\\users\\user\\anaconda3\\envs\\remote-sensing\\lib\\site-packages (from sentinelhub) (2.9.0.post0)\n",
      "Requirement already satisfied: requests-oauthlib>=1.0.0 in c:\\users\\user\\anaconda3\\envs\\remote-sensing\\lib\\site-packages (from sentinelhub) (2.0.0)\n",
      "Requirement already satisfied: requests>=2.27.0 in c:\\users\\user\\anaconda3\\envs\\remote-sensing\\lib\\site-packages (from sentinelhub) (2.32.3)\n",
      "Requirement already satisfied: shapely in c:\\users\\user\\anaconda3\\envs\\remote-sensing\\lib\\site-packages (from sentinelhub) (2.1.0)\n",
      "Requirement already satisfied: tifffile>=2020.9.30 in c:\\users\\user\\anaconda3\\envs\\remote-sensing\\lib\\site-packages (from sentinelhub) (2025.3.30)\n",
      "Requirement already satisfied: tomli in c:\\users\\user\\anaconda3\\envs\\remote-sensing\\lib\\site-packages (from sentinelhub) (2.2.1)\n",
      "Requirement already satisfied: tomli-w in c:\\users\\user\\anaconda3\\envs\\remote-sensing\\lib\\site-packages (from sentinelhub) (1.2.0)\n",
      "Requirement already satisfied: tqdm in c:\\users\\user\\anaconda3\\envs\\remote-sensing\\lib\\site-packages (from sentinelhub) (4.67.1)\n",
      "Requirement already satisfied: typing-extensions>=4.5.0 in c:\\users\\user\\anaconda3\\envs\\remote-sensing\\lib\\site-packages (from sentinelhub) (4.12.2)\n",
      "Requirement already satisfied: utm in c:\\users\\user\\anaconda3\\envs\\remote-sensing\\lib\\site-packages (from sentinelhub) (0.8.1)\n",
      "Requirement already satisfied: certifi in c:\\users\\user\\anaconda3\\envs\\remote-sensing\\lib\\site-packages (from pyproj>=2.2.0->sentinelhub) (2025.1.31)\n",
      "Requirement already satisfied: charset-normalizer<4,>=2 in c:\\users\\user\\anaconda3\\envs\\remote-sensing\\lib\\site-packages (from requests>=2.27.0->sentinelhub) (3.3.2)\n",
      "Requirement already satisfied: idna<4,>=2.5 in c:\\users\\user\\anaconda3\\envs\\remote-sensing\\lib\\site-packages (from requests>=2.27.0->sentinelhub) (3.7)\n",
      "Requirement already satisfied: urllib3<3,>=1.21.1 in c:\\users\\user\\anaconda3\\envs\\remote-sensing\\lib\\site-packages (from requests>=2.27.0->sentinelhub) (2.3.0)\n",
      "Requirement already satisfied: colorama in c:\\users\\user\\anaconda3\\envs\\remote-sensing\\lib\\site-packages (from click->sentinelhub) (0.4.6)\n",
      "Requirement already satisfied: marshmallow<4.0.0,>=3.18.0 in c:\\users\\user\\anaconda3\\envs\\remote-sensing\\lib\\site-packages (from dataclasses-json->sentinelhub) (3.26.1)\n",
      "Requirement already satisfied: typing-inspect<1,>=0.4.0 in c:\\users\\user\\anaconda3\\envs\\remote-sensing\\lib\\site-packages (from dataclasses-json->sentinelhub) (0.9.0)\n",
      "Requirement already satisfied: six>=1.5 in c:\\users\\user\\anaconda3\\envs\\remote-sensing\\lib\\site-packages (from python-dateutil->sentinelhub) (1.16.0)\n",
      "Requirement already satisfied: packaging>=17.0 in c:\\users\\user\\anaconda3\\envs\\remote-sensing\\lib\\site-packages (from marshmallow<4.0.0,>=3.18.0->dataclasses-json->sentinelhub) (24.2)\n",
      "Requirement already satisfied: mypy-extensions>=0.3.0 in c:\\users\\user\\anaconda3\\envs\\remote-sensing\\lib\\site-packages (from typing-inspect<1,>=0.4.0->dataclasses-json->sentinelhub) (1.0.0)\n",
      "Note: you may need to restart the kernel to use updated packages.\n"
     ]
    }
   ],
   "source": [
    "pip install sentinelhub"
   ]
  },
  {
   "cell_type": "code",
   "execution_count": 1,
   "id": "e5892c05-72f9-431c-a919-3d01202c2917",
   "metadata": {},
   "outputs": [],
   "source": [
    "CLIENT_ID = 'sh-e881508e-ad3b-465b-98e4-ad94fefceae2'\n",
    "CLIENT_SECRET = 'VSw9MmF6WMJYINqlYhul4xhtVqBvGXFe'"
   ]
  },
  {
   "cell_type": "code",
   "execution_count": 2,
   "id": "daa3a40e-2c44-4ecd-858e-49fd128ca877",
   "metadata": {},
   "outputs": [
    {
     "name": "stderr",
     "output_type": "stream",
     "text": [
      "C:\\Users\\USER\\anaconda3\\envs\\remote-sensing\\Lib\\site-packages\\tqdm\\auto.py:21: TqdmWarning: IProgress not found. Please update jupyter and ipywidgets. See https://ipywidgets.readthedocs.io/en/stable/user_install.html\n",
      "  from .autonotebook import tqdm as notebook_tqdm\n"
     ]
    }
   ],
   "source": [
    "from sentinelhub import SHConfig\n",
    "\n",
    "config = SHConfig()\n",
    "\n",
    "config.sh_client_id = CLIENT_ID\n",
    "config.sh_client_secret = CLIENT_SECRET\n",
    "\n",
    "if not config.sh_client_id or not config.sh_client_secret:\n",
    "  print('Please provide credentials to use Process API.')"
   ]
  },
  {
   "cell_type": "code",
   "execution_count": 3,
   "id": "57ba4b9f-92ad-4f6c-856b-f1ff24abaca8",
   "metadata": {},
   "outputs": [],
   "source": [
    "from sentinelhub import (\n",
    "    CRS,\n",
    "    BBox,\n",
    "    DataCollection,\n",
    "    DownloadRequest,\n",
    "    MimeType,\n",
    "    MosaickingOrder,\n",
    "    SentinelHubDownloadClient,\n",
    "    SentinelHubRequest,\n",
    "    bbox_to_dimensions,\n",
    ")"
   ]
  },
  {
   "cell_type": "code",
   "execution_count": null,
   "id": "57ea211b-d020-4e76-9557-d6e9564a84c8",
   "metadata": {},
   "outputs": [],
   "source": [
    "coords = (  8.1888563,\n",
    "  48.6813477,\n",
    "  8.3261464,\n",
    "  48.7721766)\n",
    "\n",
    "resolution = 30\n",
    "\n",
    "bbox = BBox(bbox=coords, crs=CRS.WGS84)\n",
    "image_size = bbox_to_dimensions(bbox, resolution=resolution)\n",
    "\n",
    "print(f'Image shape at {resolution} m resolution: {image_size}')"
   ]
  }
 ],
 "metadata": {
  "kernelspec": {
   "display_name": "Python 3 (ipykernel)",
   "language": "python",
   "name": "python3"
  },
  "language_info": {
   "codemirror_mode": {
    "name": "ipython",
    "version": 3
   },
   "file_extension": ".py",
   "mimetype": "text/x-python",
   "name": "python",
   "nbconvert_exporter": "python",
   "pygments_lexer": "ipython3",
   "version": "3.11.11"
  }
 },
 "nbformat": 4,
 "nbformat_minor": 5
}
